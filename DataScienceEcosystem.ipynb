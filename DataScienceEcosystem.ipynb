{
  "metadata": {
    "kernelspec": {
      "name": "python",
      "display_name": "Python (Pyodide)",
      "language": "python"
    },
    "language_info": {
      "codemirror_mode": {
        "name": "python",
        "version": 3
      },
      "file_extension": ".py",
      "mimetype": "text/x-python",
      "name": "python",
      "nbconvert_exporter": "python",
      "pygments_lexer": "ipython3",
      "version": "3.8"
    }
  },
  "nbformat_minor": 5,
  "nbformat": 4,
  "cells": [
    {
      "id": "744668eb-9325-439d-b58a-68eaf482688c",
      "cell_type": "markdown",
      "source": "# Data Science Tools and Ecosystem",
      "metadata": {}
    },
    {
      "id": "5ae90e05-f881-4dad-b4d8-180bb3131b65",
      "cell_type": "markdown",
      "source": "In this notebook, Data Science Tools and Ecosystem are summarized.",
      "metadata": {}
    },
    {
      "id": "eb698413-2fde-4ce0-8616-443367f127c7",
      "cell_type": "markdown",
      "source": "**Objectives:**\n- Languages used\n- Libraries used by Data Scientist\n- Tools",
      "metadata": {}
    },
    {
      "id": "934c060e-abfe-41f9-ade4-da37756fc406",
      "cell_type": "markdown",
      "source": "Some of the popular languages that Data Scientists use are:\n1. Python\n2. Java\n3. C++",
      "metadata": {}
    },
    {
      "id": "13a50037-d784-4783-9973-fe1242f300f6",
      "cell_type": "markdown",
      "source": "Some of the commonly used libraries used by Data Scientists include:\n1. Matplotlib\n2. Pandas\n3. NumPly",
      "metadata": {}
    },
    {
      "id": "87141b16-954f-4918-b3c2-398b70d07f3a",
      "cell_type": "markdown",
      "source": "| Data Science Tools |\n| ------------------ |\n| Python libraries |\n| Pandas |\n| Jupyter Notebook |",
      "metadata": {}
    },
    {
      "id": "cd542598-26ac-45f1-abdc-2c555ded0616",
      "cell_type": "markdown",
      "source": "### Below are a few examples of evaluating arithmetic expressions in Python\n",
      "metadata": {}
    },
    {
      "id": "70e52803-01ea-425b-abee-73a2e76407de",
      "cell_type": "code",
      "source": "# This a simple arithmetic expression to mutiply then add integers\n(3*4)+5",
      "metadata": {
        "trusted": true,
        "scrolled": true
      },
      "outputs": [
        {
          "execution_count": 1,
          "output_type": "execute_result",
          "data": {
            "text/plain": "17"
          },
          "metadata": {}
        }
      ],
      "execution_count": 1
    },
    {
      "id": "0f0ff22b-b549-4322-ba3c-c613ba87b99a",
      "cell_type": "code",
      "source": "# This will convert 200 minutes to hours by diving by 60\n(200/60)",
      "metadata": {
        "trusted": true
      },
      "outputs": [
        {
          "execution_count": 2,
          "output_type": "execute_result",
          "data": {
            "text/plain": "3.3333333333333335"
          },
          "metadata": {}
        }
      ],
      "execution_count": 2
    },
    {
      "id": "a3c1632a-d03a-4d30-a760-e869fa99877b",
      "cell_type": "markdown",
      "source": "## Author\nArmando ",
      "metadata": {}
    },
    {
      "id": "c17857a0-a2ac-465a-a4db-caa8c1e082d4",
      "cell_type": "code",
      "source": "",
      "metadata": {
        "trusted": true
      },
      "outputs": [],
      "execution_count": null
    }
  ]
}